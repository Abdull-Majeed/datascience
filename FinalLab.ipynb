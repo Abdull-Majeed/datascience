{
  "metadata": {
    "kernelspec": {
      "name": "python",
      "display_name": "Python (Pyodide)",
      "language": "python"
    },
    "language_info": {
      "codemirror_mode": {
        "name": "python",
        "version": 3
      },
      "file_extension": ".py",
      "mimetype": "text/x-python",
      "name": "python",
      "nbconvert_exporter": "python",
      "pygments_lexer": "ipython3",
      "version": "3.8"
    }
  },
  "nbformat_minor": 5,
  "nbformat": 4,
  "cells": [
    {
      "id": "82edc262-dc56-4098-8097-ab3471e7de8a",
      "cell_type": "markdown",
      "source": "# Final Project – Data Science Tools and Practices",
      "metadata": {}
    },
    {
      "id": "3c4b2a3c-e24a-431d-b89d-aa30ebf8c86c",
      "cell_type": "markdown",
      "source": "## Introduction\nThis notebook summarizes the core components of data science, including tools, libraries, and languages, as well as some Python code demonstrations using JupyterLite.",
      "metadata": {}
    },
    {
      "id": "e176e07f-df89-44ac-a0f0-52169e0b510e",
      "cell_type": "markdown",
      "source": "## Commonly Used Data Science Languages\n- Python\n- R\n- SQL\n- Julia\n- Scala",
      "metadata": {}
    },
    {
      "id": "2c169db3-1dcf-467b-9685-500ccc4c78a0",
      "cell_type": "markdown",
      "source": "## Popular Data Science Libraries\n- NumPy\n- Pandas\n- Matplotlib\n- Seaborn\n- Scikit-learn\n- TensorFlow",
      "metadata": {}
    },
    {
      "id": "fb3d4dae-30cb-44bb-8527-88843212b9a5",
      "cell_type": "markdown",
      "source": "## Data Science Tools Table\n\n| Tool            | Description                           |\n|-----------------|---------------------------------------|\n| Jupyter Notebook| Web-based coding and documentation    |\n| RStudio         | IDE for R programming                 |\n| Apache Hadoop   | Big data framework                    |\n| Tableau         | Data visualization platform           |\n| TensorFlow      | Deep learning framework               |\n",
      "metadata": {}
    },
    {
      "id": "5fd50e71-bf90-4760-91c1-13459b845abf",
      "cell_type": "markdown",
      "source": "## Examples of Arithmetic Expressions\nBelow are Python examples that demonstrate how to use arithmetic operators for basic math.",
      "metadata": {}
    },
    {
      "id": "0b18be88-97a1-474f-a5d1-2cf588cd5437",
      "cell_type": "code",
      "source": "# Multiply and Add Numbers\na = 5\nb = 7\nc = 10\nresult = (a * b) + c\nresult",
      "metadata": {
        "trusted": true
      },
      "outputs": [
        {
          "execution_count": 1,
          "output_type": "execute_result",
          "data": {
            "text/plain": "45"
          },
          "metadata": {}
        }
      ],
      "execution_count": 1
    },
    {
      "id": "ffdfaef1-4bf2-4f43-bc72-5d6c8798376b",
      "cell_type": "code",
      "source": "# Convert 150 minutes to hours\nminutes = 150\nhours = minutes / 60\nhours",
      "metadata": {
        "trusted": true
      },
      "outputs": [
        {
          "execution_count": 2,
          "output_type": "execute_result",
          "data": {
            "text/plain": "2.5"
          },
          "metadata": {}
        }
      ],
      "execution_count": 2
    },
    {
      "id": "97245394-4b2f-405f-a096-6389402135da",
      "cell_type": "markdown",
      "source": "## Objectives\n- Learn to use Markdown and code cells in a Jupyter Notebook\n- Explore languages, tools, and libraries used in data science\n- Demonstrate ability to write and execute Python code\n- Understand how to share notebooks through GitHub",
      "metadata": {}
    },
    {
      "id": "89916012-a955-4ef9-869f-f4bd9c4f9efe",
      "cell_type": "markdown",
      "source": "**Author:** Abdul Majeed",
      "metadata": {}
    }
  ]
}